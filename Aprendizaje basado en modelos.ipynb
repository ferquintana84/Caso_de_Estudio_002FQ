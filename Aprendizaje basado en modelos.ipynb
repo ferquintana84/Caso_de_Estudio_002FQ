{
 "cells": [
  {
   "cell_type": "markdown",
   "metadata": {},
   "source": [
    "## Model-Based Learning"
   ]
  },
  {
   "cell_type": "markdown",
   "metadata": {},
   "source": [
    "**By: Fernando E. Quintana**"
   ]
  },
  {
   "cell_type": "markdown",
   "metadata": {},
   "source": [
    "Una de las tantas formas de categorizar los modelos de Machine Learning, es en base a como `GENERALIZAN` los datos. No es suficiente con tener una buena performance en el conjunto de datos de entrenamiento. El verdadero objetivo es tener una buena precisión en `NUEVAS INSTANCIAS`."
   ]
  },
  {
   "cell_type": "markdown",
   "metadata": {},
   "source": [
    "![](Imagen1.png)"
   ]
  },
  {
   "cell_type": "markdown",
   "metadata": {},
   "source": [
    "### Model-Based Learning"
   ]
  },
  {
   "cell_type": "markdown",
   "metadata": {},
   "source": [
    "Una de las tantas formas de generalizar desde un conjunto de ejemplos es construir un modelo sobre esos ejemplos, y luego usarlo para realizar predicciones.\n",
    "Para ello vamos a seguir los siguientes pasos:\n",
    "1. Observando la información gráfica intentaremos extraer conclusiones/tendencias\n",
    "2. Con esa nueva data decidiremos seleccionar nuestro modelo de Machine Learning\n",
    "3. Una vez creado el modelo, implementaremos medidas de performance."
   ]
  },
  {
   "cell_type": "markdown",
   "metadata": {},
   "source": [
    "Caso de Estudio *002FQ*: **Realizar un estudio sobre si el dinero hace feliz a las personas**"
   ]
  },
  {
   "cell_type": "markdown",
   "metadata": {},
   "source": [
    "Fuentes y Datos:\n",
    "1. PIB per capita (precios actuales en dólares), fuente: Fondo Monetario Internacional https://www.imf.org/external/pubs/ft/weo/2016/01/weodata/index.aspx\n",
    "2. Indice de Satisfaccion de Vida: OECD https://stats.oecd.org/index.aspx?DataSetCode=BLI"
   ]
  },
  {
   "cell_type": "markdown",
   "metadata": {},
   "source": [
    "Indice de Satisfacción de Vida (Life Satisfaction):\n",
    "\n",
    "El indicador considera la evaluación de las personas de su vida como un todo. Es una suma ponderada de diferentes categorías de respuestas en una escala de 0 a 10, utilizando la Escala de Cantril (conocida también como el \"esfuerzo de autoanclaje\" Escala\")."
   ]
  },
  {
   "cell_type": "code",
   "execution_count": 33,
   "metadata": {},
   "outputs": [],
   "source": [
    "# Importamos librerias a utilizar:\n",
    "import pandas as pd\n",
    "import numpy as np \n",
    "import matplotlib\n",
    "import matplotlib.pyplot as plt\n",
    "import sklearn.linear_model\n",
    "import seaborn as sns"
   ]
  },
  {
   "cell_type": "code",
   "execution_count": 64,
   "metadata": {},
   "outputs": [],
   "source": [
    "# Cargamos el dataset:\n",
    "pib_felicidad = pd.read_csv('PIB - Life Satisfaction.csv', thousands = ',')\n",
    "pib_felicidad.set_index(\"Pais\", inplace=True)"
   ]
  },
  {
   "cell_type": "code",
   "execution_count": 65,
   "metadata": {},
   "outputs": [
    {
     "data": {
      "text/html": [
       "<div>\n",
       "<style scoped>\n",
       "    .dataframe tbody tr th:only-of-type {\n",
       "        vertical-align: middle;\n",
       "    }\n",
       "\n",
       "    .dataframe tbody tr th {\n",
       "        vertical-align: top;\n",
       "    }\n",
       "\n",
       "    .dataframe thead th {\n",
       "        text-align: right;\n",
       "    }\n",
       "</style>\n",
       "<table border=\"1\" class=\"dataframe\">\n",
       "  <thead>\n",
       "    <tr style=\"text-align: right;\">\n",
       "      <th></th>\n",
       "      <th>PIB per capita, precios actuales (dolares)</th>\n",
       "      <th>Indice Satisfaccion</th>\n",
       "    </tr>\n",
       "    <tr>\n",
       "      <th>Pais</th>\n",
       "      <th></th>\n",
       "      <th></th>\n",
       "    </tr>\n",
       "  </thead>\n",
       "  <tbody>\n",
       "    <tr>\n",
       "      <th>Alemania</th>\n",
       "      <td>40996.51</td>\n",
       "      <td>7.0</td>\n",
       "    </tr>\n",
       "    <tr>\n",
       "      <th>Australia</th>\n",
       "      <td>50961.87</td>\n",
       "      <td>7.3</td>\n",
       "    </tr>\n",
       "    <tr>\n",
       "      <th>Austria</th>\n",
       "      <td>43724.03</td>\n",
       "      <td>7.1</td>\n",
       "    </tr>\n",
       "    <tr>\n",
       "      <th>Belgica</th>\n",
       "      <td>40106.63</td>\n",
       "      <td>6.9</td>\n",
       "    </tr>\n",
       "    <tr>\n",
       "      <th>Canada</th>\n",
       "      <td>43331.96</td>\n",
       "      <td>7.4</td>\n",
       "    </tr>\n",
       "    <tr>\n",
       "      <th>Chile</th>\n",
       "      <td>13340.91</td>\n",
       "      <td>6.5</td>\n",
       "    </tr>\n",
       "    <tr>\n",
       "      <th>Republica Checa</th>\n",
       "      <td>17256.92</td>\n",
       "      <td>6.7</td>\n",
       "    </tr>\n",
       "    <tr>\n",
       "      <th>Dinamarca</th>\n",
       "      <td>52114.17</td>\n",
       "      <td>7.6</td>\n",
       "    </tr>\n",
       "    <tr>\n",
       "      <th>Estonia</th>\n",
       "      <td>17288.08</td>\n",
       "      <td>5.7</td>\n",
       "    </tr>\n",
       "    <tr>\n",
       "      <th>Finlandia</th>\n",
       "      <td>41973.99</td>\n",
       "      <td>7.6</td>\n",
       "    </tr>\n",
       "    <tr>\n",
       "      <th>Francia</th>\n",
       "      <td>37675.01</td>\n",
       "      <td>6.5</td>\n",
       "    </tr>\n",
       "    <tr>\n",
       "      <th>Grecia</th>\n",
       "      <td>18064.29</td>\n",
       "      <td>5.4</td>\n",
       "    </tr>\n",
       "    <tr>\n",
       "      <th>Hungria</th>\n",
       "      <td>12239.89</td>\n",
       "      <td>5.6</td>\n",
       "    </tr>\n",
       "    <tr>\n",
       "      <th>Islandia</th>\n",
       "      <td>50854.58</td>\n",
       "      <td>7.5</td>\n",
       "    </tr>\n",
       "    <tr>\n",
       "      <th>Irlanda</th>\n",
       "      <td>51350.74</td>\n",
       "      <td>7.0</td>\n",
       "    </tr>\n",
       "    <tr>\n",
       "      <th>Israel</th>\n",
       "      <td>35343.34</td>\n",
       "      <td>7.2</td>\n",
       "    </tr>\n",
       "    <tr>\n",
       "      <th>Italia</th>\n",
       "      <td>29866.58</td>\n",
       "      <td>6.0</td>\n",
       "    </tr>\n",
       "    <tr>\n",
       "      <th>Japon</th>\n",
       "      <td>32485.55</td>\n",
       "      <td>5.9</td>\n",
       "    </tr>\n",
       "    <tr>\n",
       "      <th>Korea</th>\n",
       "      <td>27195.20</td>\n",
       "      <td>5.9</td>\n",
       "    </tr>\n",
       "    <tr>\n",
       "      <th>Letonia</th>\n",
       "      <td>13618.57</td>\n",
       "      <td>5.9</td>\n",
       "    </tr>\n",
       "    <tr>\n",
       "      <th>Lituania</th>\n",
       "      <td>14210.28</td>\n",
       "      <td>5.9</td>\n",
       "    </tr>\n",
       "    <tr>\n",
       "      <th>Luxenburgo</th>\n",
       "      <td>101994.09</td>\n",
       "      <td>6.9</td>\n",
       "    </tr>\n",
       "    <tr>\n",
       "      <th>Mexico</th>\n",
       "      <td>9009.28</td>\n",
       "      <td>6.5</td>\n",
       "    </tr>\n",
       "    <tr>\n",
       "      <th>Países Bajos</th>\n",
       "      <td>43603.12</td>\n",
       "      <td>7.4</td>\n",
       "    </tr>\n",
       "    <tr>\n",
       "      <th>Nueva Zelanda</th>\n",
       "      <td>37044.89</td>\n",
       "      <td>7.3</td>\n",
       "    </tr>\n",
       "    <tr>\n",
       "      <th>Noruega</th>\n",
       "      <td>74822.11</td>\n",
       "      <td>7.6</td>\n",
       "    </tr>\n",
       "    <tr>\n",
       "      <th>Polonia</th>\n",
       "      <td>12495.33</td>\n",
       "      <td>6.1</td>\n",
       "    </tr>\n",
       "    <tr>\n",
       "      <th>Portugal</th>\n",
       "      <td>19121.59</td>\n",
       "      <td>5.4</td>\n",
       "    </tr>\n",
       "    <tr>\n",
       "      <th>Republica Eslovaca</th>\n",
       "      <td>15991.74</td>\n",
       "      <td>6.2</td>\n",
       "    </tr>\n",
       "    <tr>\n",
       "      <th>Eslovenia</th>\n",
       "      <td>20732.48</td>\n",
       "      <td>5.9</td>\n",
       "    </tr>\n",
       "    <tr>\n",
       "      <th>España</th>\n",
       "      <td>25864.72</td>\n",
       "      <td>6.3</td>\n",
       "    </tr>\n",
       "    <tr>\n",
       "      <th>Suiza</th>\n",
       "      <td>80675.31</td>\n",
       "      <td>7.5</td>\n",
       "    </tr>\n",
       "    <tr>\n",
       "      <th>Suecia</th>\n",
       "      <td>49866.27</td>\n",
       "      <td>7.3</td>\n",
       "    </tr>\n",
       "    <tr>\n",
       "      <th>Turquia</th>\n",
       "      <td>9437.37</td>\n",
       "      <td>5.5</td>\n",
       "    </tr>\n",
       "    <tr>\n",
       "      <th>Reino Unido</th>\n",
       "      <td>43770.69</td>\n",
       "      <td>6.8</td>\n",
       "    </tr>\n",
       "    <tr>\n",
       "      <th>Estados Unidos</th>\n",
       "      <td>55805.20</td>\n",
       "      <td>6.9</td>\n",
       "    </tr>\n",
       "    <tr>\n",
       "      <th>Brasil</th>\n",
       "      <td>8670.00</td>\n",
       "      <td>6.4</td>\n",
       "    </tr>\n",
       "    <tr>\n",
       "      <th>Colombia</th>\n",
       "      <td>6083.51</td>\n",
       "      <td>6.3</td>\n",
       "    </tr>\n",
       "    <tr>\n",
       "      <th>Rusia</th>\n",
       "      <td>9054.91</td>\n",
       "      <td>5.8</td>\n",
       "    </tr>\n",
       "    <tr>\n",
       "      <th>Sudafrica</th>\n",
       "      <td>5694.57</td>\n",
       "      <td>4.7</td>\n",
       "    </tr>\n",
       "    <tr>\n",
       "      <th>Argentina</th>\n",
       "      <td>13588.84</td>\n",
       "      <td>0.0</td>\n",
       "    </tr>\n",
       "  </tbody>\n",
       "</table>\n",
       "</div>"
      ],
      "text/plain": [
       "                    PIB per capita, precios actuales (dolares)  \\\n",
       "Pais                                                             \n",
       "Alemania                                              40996.51   \n",
       "Australia                                             50961.87   \n",
       "Austria                                               43724.03   \n",
       "Belgica                                               40106.63   \n",
       "Canada                                                43331.96   \n",
       "Chile                                                 13340.91   \n",
       "Republica Checa                                       17256.92   \n",
       "Dinamarca                                             52114.17   \n",
       "Estonia                                               17288.08   \n",
       "Finlandia                                             41973.99   \n",
       "Francia                                               37675.01   \n",
       "Grecia                                                18064.29   \n",
       "Hungria                                               12239.89   \n",
       "Islandia                                              50854.58   \n",
       "Irlanda                                               51350.74   \n",
       "Israel                                                35343.34   \n",
       "Italia                                                29866.58   \n",
       "Japon                                                 32485.55   \n",
       "Korea                                                 27195.20   \n",
       "Letonia                                               13618.57   \n",
       "Lituania                                              14210.28   \n",
       "Luxenburgo                                           101994.09   \n",
       "Mexico                                                 9009.28   \n",
       "Países Bajos                                          43603.12   \n",
       "Nueva Zelanda                                         37044.89   \n",
       "Noruega                                               74822.11   \n",
       "Polonia                                               12495.33   \n",
       "Portugal                                              19121.59   \n",
       "Republica Eslovaca                                    15991.74   \n",
       "Eslovenia                                             20732.48   \n",
       "España                                                25864.72   \n",
       "Suiza                                                 80675.31   \n",
       "Suecia                                                49866.27   \n",
       "Turquia                                                9437.37   \n",
       "Reino Unido                                           43770.69   \n",
       "Estados Unidos                                        55805.20   \n",
       "Brasil                                                 8670.00   \n",
       "Colombia                                               6083.51   \n",
       "Rusia                                                  9054.91   \n",
       "Sudafrica                                              5694.57   \n",
       "Argentina                                             13588.84   \n",
       "\n",
       "                    Indice Satisfaccion  \n",
       "Pais                                     \n",
       "Alemania                            7.0  \n",
       "Australia                           7.3  \n",
       "Austria                             7.1  \n",
       "Belgica                             6.9  \n",
       "Canada                              7.4  \n",
       "Chile                               6.5  \n",
       "Republica Checa                     6.7  \n",
       "Dinamarca                           7.6  \n",
       "Estonia                             5.7  \n",
       "Finlandia                           7.6  \n",
       "Francia                             6.5  \n",
       "Grecia                              5.4  \n",
       "Hungria                             5.6  \n",
       "Islandia                            7.5  \n",
       "Irlanda                             7.0  \n",
       "Israel                              7.2  \n",
       "Italia                              6.0  \n",
       "Japon                               5.9  \n",
       "Korea                               5.9  \n",
       "Letonia                             5.9  \n",
       "Lituania                            5.9  \n",
       "Luxenburgo                          6.9  \n",
       "Mexico                              6.5  \n",
       "Países Bajos                        7.4  \n",
       "Nueva Zelanda                       7.3  \n",
       "Noruega                             7.6  \n",
       "Polonia                             6.1  \n",
       "Portugal                            5.4  \n",
       "Republica Eslovaca                  6.2  \n",
       "Eslovenia                           5.9  \n",
       "España                              6.3  \n",
       "Suiza                               7.5  \n",
       "Suecia                              7.3  \n",
       "Turquia                             5.5  \n",
       "Reino Unido                         6.8  \n",
       "Estados Unidos                      6.9  \n",
       "Brasil                              6.4  \n",
       "Colombia                            6.3  \n",
       "Rusia                               5.8  \n",
       "Sudafrica                           4.7  \n",
       "Argentina                           0.0  "
      ]
     },
     "execution_count": 65,
     "metadata": {},
     "output_type": "execute_result"
    }
   ],
   "source": [
    "# Visualizamos el dataframe:\n",
    "pib_felicidad"
   ]
  },
  {
   "cell_type": "code",
   "execution_count": 66,
   "metadata": {},
   "outputs": [],
   "source": [
    "# Preparamos los datos:\n",
    "x = pib_felicidad['PIB per capita, precios actuales (dolares)']\n",
    "y = pib_felicidad['Indice Satisfaccion']"
   ]
  },
  {
   "cell_type": "code",
   "execution_count": 67,
   "metadata": {},
   "outputs": [
    {
     "data": {
      "image/png": "[encoded data removed]",
      "text/plain": [
       "<Figure size 432x288 with 1 Axes>"
      ]
     },
     "metadata": {
      "needs_background": "light"
     },
     "output_type": "display_data"
    }
   ],
   "source": [
    "# Visualizamos la información:\n",
    "pib_felicidad_plot, ax = plt.subplots()\n",
    "ax.scatter(x, y)\n",
    "ax.set_xlabel('PIB per capita', fontsize=10)\n",
    "ax.set_ylabel('Indice de Satisfaccion', fontsize=10)\n",
    "ax.set_title('El dinero hace feliz a las personas?', fontsize=15)\n",
    "plt.show()"
   ]
  },
  {
   "cell_type": "markdown",
   "metadata": {},
   "source": [
    "*Conclusión 1: Pareciera ser a simple vista que la satisfacción de las personas creciera en relación al crecimiento del PIB per cápita por país, de una forma mas o menos lineal. Por lo tanto podemos inferir que el Indice de Satisfacción es una función lineal del PIB per capita.*"
   ]
  },
  {
   "cell_type": "markdown",
   "metadata": {},
   "source": [
    "### Seleccionamos el modelo: Regresion Lineal con una sola variable"
   ]
  },
  {
   "cell_type": "markdown",
   "metadata": {},
   "source": [
    "$$Indice\\: de\\: Satisfaccion = \\theta_0 + \\theta_1 * PIB\\: per\\: capita$$\n",
    "\n",
    "Como vemos este modelo tiene dos parámetros, $$\\theta_0, \\theta_1$$\n",
    "\n",
    "**Al ajustar estos parámetros podemos hacer que el modelo represente cualquier funcion lineal.**"
   ]
  },
  {
   "cell_type": "markdown",
   "metadata": {},
   "source": [
    "Lo que debemos resolver antes de crear el modelo, son los valores los parámetros. Para saber que valores calcular para que el modelo funcione correctamente, tenemos que especificar lo que se conoce como `Medida de Rendimiento`. \n",
    "En este punto tenemos dos caminos:\n",
    "1. Definir una `Funcion Utilidad`, la cual nos medirá que tan 'bueno' es nuestro modelo,\n",
    "2. Definir una `Funcion Costo`, que medirá que tan 'malo' es. \n",
    "\n",
    "Para problemas de Regresión Lineal usualmente es utilizada una *función costo* que mide la distancia entre las predicciones del modelo lineal y los ejemplos de entrenamiento. \n",
    "**El objetivo es minimizar esa distancia**."
   ]
  },
  {
   "cell_type": "markdown",
   "metadata": {},
   "source": [
    "**Entrenamiento del Modelo:** en este punto es donde el algoritmo de `Regresion Lineal` entra en funcionamiento: alimenta el algoritmo con los datos de entrenamiento y encuentra los parámetros que hacen que el modelo lineal se ajuste mejor a los datos. Esto es *entrenar el modelo*."
   ]
  },
  {
   "cell_type": "code",
   "execution_count": 68,
   "metadata": {},
   "outputs": [],
   "source": [
    "# Entrenamos el modelo\n",
    "modelo = sklearn.linear_model.LinearRegression()"
   ]
  },
  {
   "cell_type": "code",
   "execution_count": 69,
   "metadata": {},
   "outputs": [
    {
     "data": {
      "text/plain": [
       "(5.3839293447249394, 3.063220627232418e-05)"
      ]
     },
     "execution_count": 69,
     "metadata": {},
     "output_type": "execute_result"
    }
   ],
   "source": [
    "# ajustamos los parámetros mencionados:\n",
    "Xsample = np.c_[pib_felicidad[\"PIB per capita, precios actuales (dolares)\"]]\n",
    "ysample = np.c_[pib_felicidad[\"Indice Satisfaccion\"]]\n",
    "modelo.fit(Xsample, ysample)\n",
    "t0, t1 = modelo.intercept_[0], modelo.coef_[0][0]\n",
    "t0, t1"
   ]
  },
  {
   "cell_type": "markdown",
   "metadata": {},
   "source": [
    "En nuestro caso, el algoritmo encontró que los parámetros más óptimos son:\n",
    "\n",
    "$$\\theta_0 = 5.38\\: y\\: \\theta_1 = 3.06 \\displaystyle * 10^{-5}$$"
   ]
  },
  {
   "cell_type": "code",
   "execution_count": 70,
   "metadata": {},
   "outputs": [
    {
     "data": {
      "image/png": "[encoded data removed]",
      "text/plain": [
       "<Figure size 432x288 with 1 Axes>"
      ]
     },
     "metadata": {
      "needs_background": "light"
     },
     "output_type": "display_data"
    }
   ],
   "source": [
    "# Visualizamos la información:\n",
    "pib_felicidad_plot, ax = plt.subplots()\n",
    "ax.scatter(x, y)\n",
    "ax.set_xlabel('PIB per capita', fontsize=10)\n",
    "ax.set_ylabel('Indice de Satisfaccion', fontsize=10)\n",
    "ax.set_title('El dinero hace feliz a las personas?', fontsize=15)\n",
    "plt.axis([0, 60000, 0, 10])\n",
    "X=np.linspace(0, 60000, 1000)\n",
    "plt.plot(X, t0 + t1*X, \"b\")\n",
    "plt.text(5000, 3.1, r\"$\\theta_0 = 5.38$\", fontsize=14, color=\"b\")\n",
    "plt.text(5000, 2.2, r\"$\\theta_1 = 3.06 \\times 10^{-5}$\", fontsize=14, color=\"b\")\n",
    "plt.show()"
   ]
  },
  {
   "cell_type": "markdown",
   "metadata": {},
   "source": [
    "**Conlusión 2:** Ahora el modelo se ajusta lo más psoible a los datos de entrenamiento como se puede ver en la figura "
   ]
  },
  {
   "cell_type": "markdown",
   "metadata": {},
   "source": [
    "### Poniendo el modelo en producción:"
   ]
  },
  {
   "cell_type": "markdown",
   "metadata": {},
   "source": [
    "Vamos a tomar un país al azar para saber que tan feliz su población en relación al PIB per cápita, y no tenemos el dato en el dataset original de la OECD. \n",
    "Para ello utilizamos nuestro modelo recientemente creado. Como dijimos que el `Indice de Felicidad` estaba en relación al PIB per cápita, necesitaremos solo ese dato. \n",
    "Recurrimos a fuentes de confianza, en este caso usamos nuevamente los datos del FMI, y elegimos como país objetivo: `Argentina`:\n",
    "\n",
    "PIB per cápita de Argentina (precios actuales en dólares): 13,588.846\n",
    "Lo reemplazamos en la fórmula de nuestra `Regresion Lineal: Modelo`\n",
    "\n",
    "$$5.38 + 13,588.84 * 3.06 * 10^{-5}$$"
   ]
  },
  {
   "cell_type": "code",
   "execution_count": 71,
   "metadata": {},
   "outputs": [
    {
     "name": "stdout",
     "output_type": "stream",
     "text": [
      "13588.84\n"
     ]
    },
    {
     "data": {
      "text/plain": [
       "5.800185494606549"
      ]
     },
     "execution_count": 71,
     "metadata": {},
     "output_type": "execute_result"
    }
   ],
   "source": [
    "# Aplicamos el modelo a Argentina:\n",
    "argentina_pib = pib_felicidad.loc[\"Argentina\"][\"PIB per capita, precios actuales (dolares)\"]\n",
    "print(argentina_pib)\n",
    "argentina_prediccion = modelo.predict([[argentina_pib]])[0][0]\n",
    "argentina_prediccion"
   ]
  },
  {
   "cell_type": "markdown",
   "metadata": {},
   "source": [
    "Obtenemos de esta manera el `Indice de Felicidad` para Argentina, que originalmente no se encontraba en el dataset provisto por la OECD, Resultando en la `escala Cantril` del 1 al 10: 5.80\n",
    "\n",
    "$$5.38 + 13,588.84 * 3.06 * 10^{-5} = 5.80$$"
   ]
  },
  {
   "cell_type": "code",
   "execution_count": 74,
   "metadata": {},
   "outputs": [
    {
     "data": {
      "image/png": "[encoded data removed]",
      "text/plain": [
       "<Figure size 360x216 with 1 Axes>"
      ]
     },
     "metadata": {
      "needs_background": "light"
     },
     "output_type": "display_data"
    }
   ],
   "source": [
    "pib_felicidad.plot(kind='scatter', x=\"PIB per capita, precios actuales (dolares)\", y='Indice Satisfaccion', figsize=(5,3), s=1)\n",
    "plt.xlabel(\"PIB per capita\")\n",
    "X=np.linspace(0, 60000, 1000)\n",
    "plt.plot(X, t0 + t1*X, \"b\")\n",
    "plt.axis([0, 60000, 0, 10])\n",
    "plt.text(5000, 7.5, r\"$\\theta_0 = 5.38 $\", fontsize=14, color=\"b\")\n",
    "plt.text(5000, 6.6, r\"$\\theta_1 = 3.06 \\times 10^{-5}$\", fontsize=14, color=\"b\")\n",
    "plt.plot([argentina_pib, argentina_pib], [0, argentina_prediccion], \"r--\")\n",
    "plt.text(25000, 5.0, r\"Prediction = 5.80\", fontsize=14, color=\"b\")\n",
    "plt.plot(argentina_pib, argentina_prediccion, \"ro\")\n",
    "plt.show()"
   ]
  },
  {
   "cell_type": "markdown",
   "metadata": {},
   "source": [
    "**Resumiendo:**\n",
    "1. Estudiamos los datos\n",
    "2. Seleccionamos el modelo\n",
    "3. Lo entrenamos con el conjunto de datos de entrenamiento\n",
    "4. Finalmente aplicamos el modelo para predecir nuevos casos esperando que el mismo generalice correctamente. Este concepto es conocido como `INFERENCIA`"
   ]
  },
  {
   "cell_type": "markdown",
   "metadata": {},
   "source": [
    "### De esta manera concluimos nuestro `Model-Based Learning` para predecir si el Indice de Satisfacción de un país se relaciona con su ingreso per cápita. \n"
   ]
  },
  {
   "cell_type": "markdown",
   "metadata": {},
   "source": [
    "**By: Fernando E. Quintana**"
   ]
  }
 ],
 "metadata": {
  "kernelspec": {
   "display_name": "Python 3",
   "language": "python",
   "name": "python3"
  },
  "language_info": {
   "codemirror_mode": {
    "name": "ipython",
    "version": 3
   },
   "file_extension": ".py",
   "mimetype": "text/x-python",
   "name": "python",
   "nbconvert_exporter": "python",
   "pygments_lexer": "ipython3",
   "version": "3.7.3"
  }
 },
 "nbformat": 4,
 "nbformat_minor": 2
}
